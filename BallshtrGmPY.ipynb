{
 "cells": [
  {
   "cell_type": "code",
   "execution_count": null,
   "metadata": {},
   "outputs": [],
   "source": [
    "from random import randrange\n",
    "from turtle import *\n",
    "from freegames import vector"
   ]
  },
  {
   "cell_type": "code",
   "execution_count": null,
   "metadata": {},
   "outputs": [],
   "source": [
    "ball = vector(-200, -200)\n",
    "speed = vector(0, 0)\n",
    "targets = []"
   ]
  },
  {
   "cell_type": "code",
   "execution_count": null,
   "metadata": {},
   "outputs": [],
   "source": [
    "def tap(x, y):\n",
    "    \"Respond to Screen Tap\"\n",
    "    if not inside(ball):\n",
    "        ball.x = -199\n",
    "        ball.y = -199\n",
    "        speed.x = (x + 200) / 25\n",
    "        speed.y = (y + 200) / 25\n",
    "def inside(xy):\n",
    "    \"Return True if xy is within Screen\"\n",
    "    returnn -200 , xy.x < 200 and -200 < xy.y < 200\n",
    "def draw():\n",
    "    \"Draw Ball and Targets\"\n",
    "    clear()\n",
    "    \n",
    "    for target in targets :\n",
    "        goto(target.x,target.y)\n",
    "        dot(20, 'blue')\n",
    "        \n",
    "    if inside(ball):\n",
    "        goto(ball.x,ball.y)\n",
    "        dot(6, 'red')\n",
    "        \n",
    "    update()\n",
    "def move():\n",
    "    \"Move Ball and Targets\"\n",
    "    if randrange(40) == 0:\n",
    "        y = randrange(-150, 150)\n",
    "        target = vector(200, y)\n",
    "        targets.append(target)\n",
    "        \n",
    "    for target in targets:\n",
    "        targets.x -= 0.5\n",
    "        \n",
    "    if inside(ball):\n",
    "        speed.y -= 0.35\n",
    "        ball.move(speed)\n",
    "    \n",
    "    dupe = targets.copy()\n",
    "    targets.clear()\n",
    "    \n",
    "    for target in dupe:\n",
    "        if abs(target - ball) > 13:\n",
    "            targets.append(target)\n",
    "    \n",
    "    draw()\n",
    "    \n",
    "    for target in targets:\n",
    "        if not inside(target):\n",
    "            return\n",
    "    ontimer(move, 50)\n",
    "setup(420, 420, 370, 0)\n",
    "hideturtle()\n",
    "up()\n",
    "tracer(False)\n",
    "onscreenclick(tap)\n",
    "move()\n",
    "done()\n",
    "        \n",
    "    "
   ]
  }
 ],
 "metadata": {
  "kernelspec": {
   "display_name": "Python 3",
   "language": "python",
   "name": "python3"
  },
  "language_info": {
   "codemirror_mode": {
    "name": "ipython",
    "version": 3
   },
   "file_extension": ".py",
   "mimetype": "text/x-python",
   "name": "python",
   "nbconvert_exporter": "python",
   "pygments_lexer": "ipython3",
   "version": "3.6.5"
  }
 },
 "nbformat": 4,
 "nbformat_minor": 2
}
